{
 "cells": [
  {
   "cell_type": "code",
   "execution_count": 1,
   "metadata": {},
   "outputs": [],
   "source": [
    "import gym\n",
    "import numpy as np\n",
    "import math\n",
    "from functools import reduce\n",
    "\n",
    "\n",
    "# Tiling for single dimension\n",
    "def create_tiling(feat_range, bins, offset, step_size):\n",
    "    return np.linspace(feat_range[0], feat_range[1] + step_size, bins + 1)[1:-1] - offset\n",
    "\n",
    "\n",
    "def create_tilings(feature_ranges, number_tilings, bins, offsets, step_sizes):\n",
    "    \"\"\"\n",
    "    feature_ranges: range of each feature; example: x: [-1, 1], y: [2, 5] -> [[-1, 1], [2, 5]]\n",
    "    number_tilings: number of tilings; example: 3tilings\n",
    "    bins: bin size for each tiling and dimension; example: [[10, 10], [10, 10], [10, 10]]: 3 tilings * [x_bin, y_bin]\n",
    "    offsets: offset for each tiling and dimension; example: [[0, 0], [0.2, 1], [0.4, 1.5]]: 3 tilings * [x_offset, y_offset]\n",
    "    \"\"\"\n",
    "    tilings = []\n",
    "    # for each tiling\n",
    "    for tile_i in range(number_tilings):\n",
    "        tiling_bin = bins[tile_i]\n",
    "        tiling_offset = offsets[tile_i]\n",
    "\n",
    "        tiling = []\n",
    "        # for each feature dimension\n",
    "        for feat_i in range(len(feature_ranges)):\n",
    "            feat_range = feature_ranges[feat_i]\n",
    "            # tiling for 1 feature\n",
    "            step_size = step_sizes[feat_i]\n",
    "            feat_tiling = create_tiling(feat_range, tiling_bin[feat_i], tiling_offset[feat_i], step_size)\n",
    "            # print(feat_tiling)\n",
    "            tiling.append(feat_tiling)\n",
    "        tilings.append(tiling)\n",
    "    return np.array(tilings)"
   ]
  },
  {
   "cell_type": "code",
   "execution_count": 2,
   "metadata": {},
   "outputs": [],
   "source": [
    "def get_tile_coding(feature, tilings):\n",
    "    \"\"\"\n",
    "    feature: sample feature with multiple dimensions that need to be encoded; example: [0.1, 2.5], [-0.3, 2.0]\n",
    "    tilings: tilings with a few layers\n",
    "    return: the encoding for the feature on each layer\n",
    "    \"\"\"\n",
    "    num_dims = len(feature)\n",
    "    feat_codings = []\n",
    "    for tiling in tilings:\n",
    "        feat_coding = []\n",
    "        for i in range(num_dims):\n",
    "            feat_i = feature[i]\n",
    "            tiling_i = tiling[i]  # tiling on that dimension\n",
    "            coding_i = np.digitize(feat_i, tiling_i)\n",
    "            feat_coding.append(coding_i)\n",
    "        feat_codings.append(feat_coding)\n",
    "    return np.array(feat_codings)"
   ]
  },
  {
   "cell_type": "code",
   "execution_count": null,
   "metadata": {},
   "outputs": [],
   "source": []
  }
 ],
 "metadata": {
  "kernelspec": {
   "display_name": "Python 3",
   "language": "python",
   "name": "python3"
  },
  "language_info": {
   "codemirror_mode": {
    "name": "ipython",
    "version": 3
   },
   "file_extension": ".py",
   "mimetype": "text/x-python",
   "name": "python",
   "nbconvert_exporter": "python",
   "pygments_lexer": "ipython3",
   "version": "3.6.9"
  }
 },
 "nbformat": 4,
 "nbformat_minor": 4
}
